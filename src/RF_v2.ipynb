{
 "cells": [
  {
   "cell_type": "code",
   "execution_count": 53,
   "metadata": {},
   "outputs": [],
   "source": [
    "from bayes_opt import BayesianOptimization\n",
    "import pandas as pd\n",
    "import random, os"
   ]
  },
  {
   "cell_type": "code",
   "execution_count": 54,
   "metadata": {},
   "outputs": [],
   "source": [
    "random.seed(5835)\n",
    "import RF_abstraction"
   ]
  },
  {
   "cell_type": "code",
   "execution_count": 55,
   "metadata": {},
   "outputs": [],
   "source": [
    "PATH = os.getcwd()\n",
    "PATH = PATH.split(os.path.sep)\n",
    "if \"src\" in PATH:\n",
    "    PATH.remove(\"src\")\n",
    "PATH = os.path.sep.join(PATH)\n",
    "\n",
    "def df_preprocessing(data_name: str) -> pd.DataFrame:\n",
    "    df = pd.read_csv(os.path.join(PATH, \"datasets\", data_name + \"_dataset.csv\"))\n",
    "    # (A) There are multiple of the same experiments, so average them!\n",
    "    features = list(df.columns)[:-1]\n",
    "    obj_metric = list(df.columns)[-1]\n",
    "    df = df.groupby(features)[obj_metric].agg(lambda x: x.unique().mean())\n",
    "    df = (df.to_frame()).reset_index()\n",
    "    # (B) Change all NECESSARY df to a maximization problem\n",
    "    if data_name not in ['P3HT', 'Crossed barrel', 'AutoAM']:\n",
    "        # aka AgNP & Perovskite\n",
    "        df[obj_metric] = -df[obj_metric].values"
   ]
  },
  {
   "cell_type": "code",
   "execution_count": 56,
   "metadata": {},
   "outputs": [],
   "source": [
    "n_models = 50\n",
    "n_models = [random.randint(0, 9999) for _ in range(n_models)]\n",
    "# include 2 initial points somehow"
   ]
  },
  {
   "cell_type": "markdown",
   "metadata": {},
   "source": [
    "What I notice is that in the research paper's code, they go through all possible candidates and run the the acquisition functions on each to pick the point with the largest acquisition value.\n",
    "Its hard to do that in this library, instead..."
   ]
  },
  {
   "cell_type": "code",
   "execution_count": 59,
   "metadata": {},
   "outputs": [
    {
     "ename": "TypeError",
     "evalue": "RF.__init__() got an unexpected keyword argument 'n_est'",
     "output_type": "error",
     "traceback": [
      "\u001b[0;31m---------------------------------------------------------------------------\u001b[0m",
      "\u001b[0;31mTypeError\u001b[0m                                 Traceback (most recent call last)",
      "\u001b[1;32m/Users/jb/Documents/GitHub/UConn_MLPSS_FP/Bayesian_Optimization_Paper_Replication/src/RF_v2.ipynb Cell 6\u001b[0m line \u001b[0;36m4\n\u001b[1;32m      <a href='vscode-notebook-cell:/Users/jb/Documents/GitHub/UConn_MLPSS_FP/Bayesian_Optimization_Paper_Replication/src/RF_v2.ipynb#W5sZmlsZQ%3D%3D?line=0'>1</a>\u001b[0m dataset_df \u001b[39m=\u001b[39m df_preprocessing(\u001b[39m'\u001b[39m\u001b[39mCrossed barrel\u001b[39m\u001b[39m'\u001b[39m)\n\u001b[0;32m----> <a href='vscode-notebook-cell:/Users/jb/Documents/GitHub/UConn_MLPSS_FP/Bayesian_Optimization_Paper_Replication/src/RF_v2.ipynb#W5sZmlsZQ%3D%3D?line=3'>4</a>\u001b[0m template_model \u001b[39m=\u001b[39m RF_abstraction\u001b[39m.\u001b[39;49mRF(\n\u001b[1;32m      <a href='vscode-notebook-cell:/Users/jb/Documents/GitHub/UConn_MLPSS_FP/Bayesian_Optimization_Paper_Replication/src/RF_v2.ipynb#W5sZmlsZQ%3D%3D?line=4'>5</a>\u001b[0m     acquisition_type\u001b[39m=\u001b[39;49m \u001b[39m\"\u001b[39;49m\u001b[39mEI\u001b[39;49m\u001b[39m\"\u001b[39;49m,\n\u001b[1;32m      <a href='vscode-notebook-cell:/Users/jb/Documents/GitHub/UConn_MLPSS_FP/Bayesian_Optimization_Paper_Replication/src/RF_v2.ipynb#W5sZmlsZQ%3D%3D?line=5'>6</a>\u001b[0m     n_est \u001b[39m=\u001b[39;49m \u001b[39m100\u001b[39;49m,\n\u001b[1;32m      <a href='vscode-notebook-cell:/Users/jb/Documents/GitHub/UConn_MLPSS_FP/Bayesian_Optimization_Paper_Replication/src/RF_v2.ipynb#W5sZmlsZQ%3D%3D?line=6'>7</a>\u001b[0m     ucb_ratio \u001b[39m=\u001b[39;49m \u001b[39m10\u001b[39;49m,\n\u001b[1;32m      <a href='vscode-notebook-cell:/Users/jb/Documents/GitHub/UConn_MLPSS_FP/Bayesian_Optimization_Paper_Replication/src/RF_v2.ipynb#W5sZmlsZQ%3D%3D?line=7'>8</a>\u001b[0m     df \u001b[39m=\u001b[39;49m dataset_df,\n\u001b[1;32m      <a href='vscode-notebook-cell:/Users/jb/Documents/GitHub/UConn_MLPSS_FP/Bayesian_Optimization_Paper_Replication/src/RF_v2.ipynb#W5sZmlsZQ%3D%3D?line=8'>9</a>\u001b[0m     n_top_candidates \u001b[39m=\u001b[39;49m \u001b[39m0.05\u001b[39;49m,\n\u001b[1;32m     <a href='vscode-notebook-cell:/Users/jb/Documents/GitHub/UConn_MLPSS_FP/Bayesian_Optimization_Paper_Replication/src/RF_v2.ipynb#W5sZmlsZQ%3D%3D?line=9'>10</a>\u001b[0m     seed \u001b[39m=\u001b[39;49m \u001b[39m5835\u001b[39;49m)\n\u001b[1;32m     <a href='vscode-notebook-cell:/Users/jb/Documents/GitHub/UConn_MLPSS_FP/Bayesian_Optimization_Paper_Replication/src/RF_v2.ipynb#W5sZmlsZQ%3D%3D?line=12'>13</a>\u001b[0m \u001b[39mfor\u001b[39;00m seed \u001b[39min\u001b[39;00m n_models:\n\u001b[1;32m     <a href='vscode-notebook-cell:/Users/jb/Documents/GitHub/UConn_MLPSS_FP/Bayesian_Optimization_Paper_Replication/src/RF_v2.ipynb#W5sZmlsZQ%3D%3D?line=13'>14</a>\u001b[0m     Model \u001b[39m=\u001b[39m template_model\u001b[39m.\u001b[39mcopy()\n",
      "\u001b[0;31mTypeError\u001b[0m: RF.__init__() got an unexpected keyword argument 'n_est'"
     ]
    }
   ],
   "source": [
    "dataset_df = df_preprocessing('Crossed barrel')\n",
    "\n",
    "\n",
    "template_model = RF_abstraction.RF(\n",
    "    acquisition_type= \"EI\",\n",
    "    n_est = 100,\n",
    "    ucb_ratio = 10,\n",
    "    df = dataset_df,\n",
    "    n_top_candidates = 0.05,\n",
    "    seed = 5835)\n",
    "\n",
    "\n",
    "for seed in n_models:\n",
    "    Model = template_model.copy()\n",
    "    Model.seed = seed\n",
    "    \n",
    "    optimizer = BayesianOptimization(\n",
    "        f = Model.f_surrogate_model,\n",
    "        pbounds = Model.pbounds,\n",
    "        random_state= Model.seed\n",
    "    )\n",
    "    \n",
    "    while Model.calc_metric != 1.0:\n",
    "        next_point = optimizer.suggest(utility_function=Model.utility)\n",
    "        Model.add_candidate(**next_point)\n",
    "        value = Model.f_surrogate_model(**next_point)\n",
    "        optimizer.register(params=next_point, target=value)"
   ]
  }
 ],
 "metadata": {
  "kernelspec": {
   "display_name": "MLPSS_FP_BO",
   "language": "python",
   "name": "python3"
  },
  "language_info": {
   "codemirror_mode": {
    "name": "ipython",
    "version": 3
   },
   "file_extension": ".py",
   "mimetype": "text/x-python",
   "name": "python",
   "nbconvert_exporter": "python",
   "pygments_lexer": "ipython3",
   "version": "3.10.13"
  }
 },
 "nbformat": 4,
 "nbformat_minor": 2
}
