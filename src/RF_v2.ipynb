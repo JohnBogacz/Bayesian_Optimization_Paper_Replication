{
 "cells": [
  {
   "cell_type": "code",
   "execution_count": 18,
   "metadata": {},
   "outputs": [],
   "source": [
    "from bayes_opt import BayesianOptimization\n",
    "import pandas as pd\n",
    "import random, os\n",
    "import copy"
   ]
  },
  {
   "cell_type": "code",
   "execution_count": 19,
   "metadata": {},
   "outputs": [],
   "source": [
    "random.seed(5835)\n",
    "import RF_abstraction"
   ]
  },
  {
   "cell_type": "code",
   "execution_count": 20,
   "metadata": {},
   "outputs": [],
   "source": [
    "PATH = os.getcwd()\n",
    "PATH = PATH.split(os.path.sep)\n",
    "if \"src\" in PATH:\n",
    "    PATH.remove(\"src\")\n",
    "PATH = os.path.sep.join(PATH)\n",
    "\n",
    "def df_preprocessing(data_name: str) -> pd.DataFrame:\n",
    "    df = pd.read_csv(os.path.join(PATH, \"datasets\", data_name + \"_dataset.csv\"))\n",
    "    # (A) There are multiple of the same experiments, so average them!\n",
    "    features = list(df.columns)[:-1]\n",
    "    obj_metric = list(df.columns)[-1]\n",
    "    df = df.groupby(features)[obj_metric].agg(lambda x: x.unique().mean())\n",
    "    df = (df.to_frame()).reset_index()\n",
    "    # (B) Change all NECESSARY df to a maximization problem\n",
    "    if data_name not in ['P3HT', 'Crossed barrel', 'AutoAM']:\n",
    "        # aka AgNP & Perovskite\n",
    "        df[obj_metric] = -df[obj_metric].values\n",
    "    return df\n",
    "\n",
    "dataset_df = df_preprocessing('Crossed barrel')"
   ]
  },
  {
   "cell_type": "code",
   "execution_count": 21,
   "metadata": {},
   "outputs": [],
   "source": [
    "n_models = 50\n",
    "n_models = [random.randint(0, 9999) for _ in range(n_models)]\n",
    "# include 2 initial points somehow"
   ]
  },
  {
   "cell_type": "markdown",
   "metadata": {},
   "source": [
    "What I notice is that in the research paper's code, they go through all possible candidates and run the the acquisition functions on each to pick the point with the largest acquisition value.\n",
    "Its hard to do that in this library, instead..."
   ]
  },
  {
   "cell_type": "code",
   "execution_count": 33,
   "metadata": {},
   "outputs": [
    {
     "ename": "Exception",
     "evalue": "Error",
     "output_type": "error",
     "traceback": [
      "\u001b[0;31m---------------------------------------------------------------------------\u001b[0m",
      "\u001b[0;31mException\u001b[0m                                 Traceback (most recent call last)",
      "\u001b[1;32m/Users/jb/Documents/GitHub/UConn_MLPSS_FP/Bayesian_Optimization_Paper_Replication/src/RF_v2.ipynb Cell 6\u001b[0m line \u001b[0;36m2\n\u001b[1;32m     <a href='vscode-notebook-cell:/Users/jb/Documents/GitHub/UConn_MLPSS_FP/Bayesian_Optimization_Paper_Replication/src/RF_v2.ipynb#W5sZmlsZQ%3D%3D?line=18'>19</a>\u001b[0m \u001b[39mwhile\u001b[39;00m Model\u001b[39m.\u001b[39mmetric() \u001b[39m!=\u001b[39m \u001b[39m1.0\u001b[39m:\n\u001b[1;32m     <a href='vscode-notebook-cell:/Users/jb/Documents/GitHub/UConn_MLPSS_FP/Bayesian_Optimization_Paper_Replication/src/RF_v2.ipynb#W5sZmlsZQ%3D%3D?line=19'>20</a>\u001b[0m     next_point \u001b[39m=\u001b[39m optimizer\u001b[39m.\u001b[39msuggest(utility_function\u001b[39m=\u001b[39mModel\u001b[39m.\u001b[39mutility)\n\u001b[0;32m---> <a href='vscode-notebook-cell:/Users/jb/Documents/GitHub/UConn_MLPSS_FP/Bayesian_Optimization_Paper_Replication/src/RF_v2.ipynb#W5sZmlsZQ%3D%3D?line=20'>21</a>\u001b[0m     Model\u001b[39m.\u001b[39;49madd_candidate(next_point)\n\u001b[1;32m     <a href='vscode-notebook-cell:/Users/jb/Documents/GitHub/UConn_MLPSS_FP/Bayesian_Optimization_Paper_Replication/src/RF_v2.ipynb#W5sZmlsZQ%3D%3D?line=21'>22</a>\u001b[0m     value \u001b[39m=\u001b[39m Model\u001b[39m.\u001b[39mf_surrogate_model(\u001b[39m*\u001b[39m\u001b[39m*\u001b[39mnext_point)\n\u001b[1;32m     <a href='vscode-notebook-cell:/Users/jb/Documents/GitHub/UConn_MLPSS_FP/Bayesian_Optimization_Paper_Replication/src/RF_v2.ipynb#W5sZmlsZQ%3D%3D?line=22'>23</a>\u001b[0m     optimizer\u001b[39m.\u001b[39mregister(params\u001b[39m=\u001b[39mnext_point, target\u001b[39m=\u001b[39mvalue)\n",
      "File \u001b[0;32m~/Documents/GitHub/UConn_MLPSS_FP/Bayesian_Optimization_Paper_Replication/src/RF_abstraction.py:110\u001b[0m, in \u001b[0;36mModel.add_candidate\u001b[0;34m(self, *args)\u001b[0m\n\u001b[1;32m    107\u001b[0m features \u001b[39m=\u001b[39m \u001b[39mself\u001b[39m\u001b[39m.\u001b[39mdf\u001b[39m.\u001b[39mvalues[:\u001b[39m-\u001b[39m\u001b[39m1\u001b[39m]\n\u001b[1;32m    109\u001b[0m \u001b[39mif\u001b[39;00m \u001b[39mlen\u001b[39m(args) \u001b[39m!=\u001b[39m features\u001b[39m.\u001b[39mshape[\u001b[39m0\u001b[39m]:\n\u001b[0;32m--> 110\u001b[0m     \u001b[39mraise\u001b[39;00m \u001b[39mException\u001b[39;00m(\u001b[39m\"\u001b[39m\u001b[39mError\u001b[39m\u001b[39m\"\u001b[39m)\n\u001b[1;32m    112\u001b[0m temp_matrix \u001b[39m=\u001b[39m np\u001b[39m.\u001b[39mzeros_like(features)\n\u001b[1;32m    113\u001b[0m \u001b[39mfor\u001b[39;00m arg_i \u001b[39min\u001b[39;00m \u001b[39mrange\u001b[39m(args):\n\u001b[1;32m    114\u001b[0m     \u001b[39m# matrix_col = (matrix_col - arg)^2\u001b[39;00m\n",
      "\u001b[0;31mException\u001b[0m: Error"
     ]
    }
   ],
   "source": [
    "template_model = RF_abstraction.RF(\n",
    "    acquisition_type= \"EI\",\n",
    "    n_est = 100,\n",
    "    ucb_ratio = 10,\n",
    "    df = dataset_df,\n",
    "    n_top_candidates = 0.05,\n",
    "    seed = 5835)\n",
    "\n",
    "for seed in n_models:\n",
    "    Model = copy.copy(template_model)\n",
    "    Model.seed = seed\n",
    "    \n",
    "    optimizer = BayesianOptimization(\n",
    "        f = Model.f_surrogate_model,\n",
    "        pbounds = Model.pbounds,\n",
    "        random_state= Model.seed\n",
    "    )\n",
    "    \n",
    "    while Model.metric() != 1.0:\n",
    "        next_point = optimizer.suggest(utility_function=Model.utility)\n",
    "        Model.add_candidate(next_point)\n",
    "        value = Model.f_surrogate_model(**next_point)\n",
    "        optimizer.register(params=next_point, target=value)"
   ]
  }
 ],
 "metadata": {
  "kernelspec": {
   "display_name": "MLPSS_FP_BO",
   "language": "python",
   "name": "python3"
  },
  "language_info": {
   "codemirror_mode": {
    "name": "ipython",
    "version": 3
   },
   "file_extension": ".py",
   "mimetype": "text/x-python",
   "name": "python",
   "nbconvert_exporter": "python",
   "pygments_lexer": "ipython3",
   "version": "3.10.13"
  }
 },
 "nbformat": 4,
 "nbformat_minor": 2
}
